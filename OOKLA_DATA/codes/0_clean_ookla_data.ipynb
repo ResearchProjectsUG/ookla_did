{
 "cells": [
  {
   "cell_type": "code",
   "execution_count": 1,
   "metadata": {
    "colab": {
     "base_uri": "https://localhost:8080/"
    },
    "executionInfo": {
     "elapsed": 11876,
     "status": "ok",
     "timestamp": 1734568855817,
     "user": {
      "displayName": "MAX LENIN CHIPANI LIMA",
      "userId": "14830228347600256043"
     },
     "user_tz": 300
    },
    "id": "TjOCaBSz9P1p",
    "outputId": "d7312a11-4b74-4afe-a087-b920bf85c0e6"
   },
   "outputs": [
    {
     "name": "stdout",
     "output_type": "stream",
     "text": [
      "Collecting adjustText\n",
      "  Downloading adjustText-1.3.0-py3-none-any.whl.metadata (3.1 kB)\n",
      "Requirement already satisfied: numpy in c:\\users\\user\\anaconda3\\envs\\ookla\\lib\\site-packages (from adjustText) (1.24.3)\n",
      "Requirement already satisfied: matplotlib in c:\\users\\user\\anaconda3\\envs\\ookla\\lib\\site-packages (from adjustText) (3.9.2)\n",
      "Requirement already satisfied: scipy in c:\\users\\user\\anaconda3\\envs\\ookla\\lib\\site-packages (from adjustText) (1.14.1)\n",
      "Requirement already satisfied: contourpy>=1.0.1 in c:\\users\\user\\anaconda3\\envs\\ookla\\lib\\site-packages (from matplotlib->adjustText) (1.3.1)\n",
      "Requirement already satisfied: cycler>=0.10 in c:\\users\\user\\anaconda3\\envs\\ookla\\lib\\site-packages (from matplotlib->adjustText) (0.11.0)\n",
      "Requirement already satisfied: fonttools>=4.22.0 in c:\\users\\user\\anaconda3\\envs\\ookla\\lib\\site-packages (from matplotlib->adjustText) (4.51.0)\n",
      "Requirement already satisfied: kiwisolver>=1.3.1 in c:\\users\\user\\anaconda3\\envs\\ookla\\lib\\site-packages (from matplotlib->adjustText) (1.4.4)\n",
      "Requirement already satisfied: packaging>=20.0 in c:\\users\\user\\anaconda3\\envs\\ookla\\lib\\site-packages (from matplotlib->adjustText) (24.2)\n",
      "Requirement already satisfied: pillow>=8 in c:\\users\\user\\anaconda3\\envs\\ookla\\lib\\site-packages (from matplotlib->adjustText) (11.0.0)\n",
      "Requirement already satisfied: pyparsing>=2.3.1 in c:\\users\\user\\anaconda3\\envs\\ookla\\lib\\site-packages (from matplotlib->adjustText) (3.2.0)\n",
      "Requirement already satisfied: python-dateutil>=2.7 in c:\\users\\user\\anaconda3\\envs\\ookla\\lib\\site-packages (from matplotlib->adjustText) (2.9.0.post0)\n",
      "Requirement already satisfied: six>=1.5 in c:\\users\\user\\anaconda3\\envs\\ookla\\lib\\site-packages (from python-dateutil>=2.7->matplotlib->adjustText) (1.16.0)\n",
      "Downloading adjustText-1.3.0-py3-none-any.whl (13 kB)\n",
      "Installing collected packages: adjustText\n",
      "Successfully installed adjustText-1.3.0\n"
     ]
    }
   ],
   "source": [
    "!pip install adjustText"
   ]
  },
  {
   "cell_type": "code",
   "execution_count": 1,
   "metadata": {
    "id": "cQLJBFtPT_2F"
   },
   "outputs": [],
   "source": [
    "%matplotlib inline\n",
    "\n",
    "from datetime import datetime\n",
    "\n",
    "import geopandas as gp\n",
    "import matplotlib\n",
    "import matplotlib.pyplot as plt\n",
    "import pandas as pd\n",
    "import numpy as np\n",
    "\n",
    "from shapely.geometry import Point\n",
    "from adjustText import adjust_text"
   ]
  },
  {
   "cell_type": "code",
   "execution_count": 10,
   "metadata": {
    "id": "cZd7kvQ6dbdC"
   },
   "outputs": [],
   "source": [
    "def load_and_intersect(year, quarter, distrital_gdf):\n",
    "    file_path = f'../input/{year}/pe_{year}_{quarter}.shp'  # Ruta del archivo de entrada\n",
    "    gdf = gp.read_file(file_path)  # Carga el shapefile\n",
    "    gdf = gdf.to_crs(distrital_gdf.crs)  # Asegura que los CRS sean compatibles\n",
    "\n",
    "    # Realiza la intersección espacial\n",
    "    distrital_data = gp.sjoin(gdf, distrital_gdf, how=\"inner\", predicate=\"intersects\")\n",
    "\n",
    "    # Añade columnas de año y trimestre\n",
    "    distrital_data['year'] = year\n",
    "    distrital_data['quarter'] = quarter\n",
    "\n",
    "    return distrital_data"
   ]
  },
  {
   "cell_type": "code",
   "execution_count": 11,
   "metadata": {
    "id": "EqTG6WQ8dn2g"
   },
   "outputs": [],
   "source": [
    "# Carga el shapefile de los distritos de Lima\n",
    "distrital_gdf = gp.read_file(\"../input/Shapefiles Lima Peru/Distritos/Distrital INEI 2023 geogpsperu SuyoPomalia.shp\")\n",
    "\n",
    "# Lista de años y trimestres\n",
    "years = [2019, 2020, 2021, 2022]\n",
    "quarters = [1, 2, 3, 4]\n",
    "\n",
    "# Lista para almacenar los DataFrames\n",
    "all_data = []\n"
   ]
  },
  {
   "cell_type": "code",
   "execution_count": 12,
   "metadata": {
    "colab": {
     "base_uri": "https://localhost:8080/"
    },
    "executionInfo": {
     "elapsed": 40864,
     "status": "ok",
     "timestamp": 1733836512819,
     "user": {
      "displayName": "MAX LENIN CHIPANI LIMA",
      "userId": "14830228347600256043"
     },
     "user_tz": 300
    },
    "id": "zpIFuYI3dsCm",
    "outputId": "9a046b3b-6aa8-4dc5-a77e-7aeea12d3d5d"
   },
   "outputs": [],
   "source": [
    "# Procesa cada año y trimestre\n",
    "for year in years:\n",
    "    for quarter in quarters:\n",
    "        try:\n",
    "            data = load_and_intersect(year, quarter, distrital_gdf)\n",
    "            all_data.append(data)\n",
    "        except Exception as e:\n",
    "            print(f\"Error processing {year} Q{quarter}: {e}\")"
   ]
  },
  {
   "cell_type": "code",
   "execution_count": 13,
   "metadata": {
    "colab": {
     "base_uri": "https://localhost:8080/",
     "height": 294
    },
    "executionInfo": {
     "elapsed": 319,
     "status": "error",
     "timestamp": 1733791170381,
     "user": {
      "displayName": "MAX LENIN CHIPANI LIMA",
      "userId": "14830228347600256043"
     },
     "user_tz": 300
    },
    "id": "V9_U9EmBeR5-",
    "outputId": "8bf22def-58bd-4682-aee9-168684318213"
   },
   "outputs": [],
   "source": [
    "# Combina todos los DataFrames\n",
    "combined_data_1 = pd.concat(all_data, ignore_index=True)"
   ]
  },
  {
   "cell_type": "code",
   "execution_count": 16,
   "metadata": {},
   "outputs": [
    {
     "name": "stdout",
     "output_type": "stream",
     "text": [
      "<class 'geopandas.geodataframe.GeoDataFrame'>\n",
      "RangeIndex: 158448 entries, 0 to 158447\n",
      "Data columns (total 19 columns):\n",
      " #   Column       Non-Null Count   Dtype   \n",
      "---  ------       --------------   -----   \n",
      " 0   quadkey      158448 non-null  object  \n",
      " 1   avg_d_kbps   158448 non-null  int64   \n",
      " 2   avg_u_kbps   158448 non-null  int64   \n",
      " 3   avg_lat_ms   158448 non-null  int64   \n",
      " 4   tests        158448 non-null  int64   \n",
      " 5   devices      158448 non-null  int64   \n",
      " 6   geometry     158448 non-null  geometry\n",
      " 7   index_right  158448 non-null  int64   \n",
      " 8   UBIGEO       158448 non-null  object  \n",
      " 9   CCDD         158448 non-null  object  \n",
      " 10  CCPP         158448 non-null  object  \n",
      " 11  CCDI         158448 non-null  object  \n",
      " 12  DEPARTAMEN   158448 non-null  object  \n",
      " 13  PROVINCIA    158448 non-null  object  \n",
      " 14  DISTRITO     158448 non-null  object  \n",
      " 15  OBJECTID     158448 non-null  float64 \n",
      " 16  ESRI_OID     158448 non-null  float64 \n",
      " 17  year         158448 non-null  int64   \n",
      " 18  quarter      158448 non-null  int64   \n",
      "dtypes: float64(2), geometry(1), int64(8), object(8)\n",
      "memory usage: 23.0+ MB\n"
     ]
    }
   ],
   "source": [
    "combined_data_1.info()"
   ]
  },
  {
   "cell_type": "code",
   "execution_count": 14,
   "metadata": {
    "colab": {
     "base_uri": "https://localhost:8080/",
     "height": 145
    },
    "executionInfo": {
     "elapsed": 276,
     "status": "error",
     "timestamp": 1733884700952,
     "user": {
      "displayName": "MAX LENIN CHIPANI LIMA",
      "userId": "14830228347600256043"
     },
     "user_tz": 300
    },
    "id": "OmBF-jjReTDe",
    "outputId": "0f5c1025-7d1d-4e82-b616-cf94736ae321"
   },
   "outputs": [
    {
     "name": "stderr",
     "output_type": "stream",
     "text": [
      "C:\\Users\\USER\\AppData\\Local\\Temp\\ipykernel_4436\\829000376.py:2: UserWarning: Column names longer than 10 characters will be truncated when saved to ESRI Shapefile.\n",
      "  combined_data_1.to_file('../output/combined_data_1.shp')\n"
     ]
    }
   ],
   "source": [
    "# Guarda el resultado como un archivo shapefile\n",
    "#combined_data_1.to_file('../output/combined_data_1.shp')"
   ]
  },
  {
   "cell_type": "code",
   "execution_count": 57,
   "metadata": {
    "id": "A3rlUB4k_ZPg"
   },
   "outputs": [],
   "source": [
    "combined_data = gp.read_file('../output/combined_data.shp') #es la misma data que"
   ]
  },
  {
   "cell_type": "code",
   "execution_count": 17,
   "metadata": {
    "colab": {
     "base_uri": "https://localhost:8080/",
     "height": 573
    },
    "executionInfo": {
     "elapsed": 329,
     "status": "ok",
     "timestamp": 1733884716476,
     "user": {
      "displayName": "MAX LENIN CHIPANI LIMA",
      "userId": "14830228347600256043"
     },
     "user_tz": 300
    },
    "id": "BUOkP--5A7xY",
    "outputId": "1ca02ead-dfef-4554-f03c-6db0e7c141ad"
   },
   "outputs": [
    {
     "name": "stdout",
     "output_type": "stream",
     "text": [
      "<class 'geopandas.geodataframe.GeoDataFrame'>\n",
      "RangeIndex: 158448 entries, 0 to 158447\n",
      "Data columns (total 19 columns):\n",
      " #   Column      Non-Null Count   Dtype   \n",
      "---  ------      --------------   -----   \n",
      " 0   quadkey     158448 non-null  object  \n",
      " 1   avg_d_kbps  158448 non-null  int64   \n",
      " 2   avg_u_kbps  158448 non-null  int64   \n",
      " 3   avg_lat_ms  158448 non-null  int64   \n",
      " 4   tests       158448 non-null  int64   \n",
      " 5   devices     158448 non-null  int64   \n",
      " 6   index_righ  158448 non-null  int64   \n",
      " 7   UBIGEO      158448 non-null  object  \n",
      " 8   CCDD        158448 non-null  object  \n",
      " 9   CCPP        158448 non-null  object  \n",
      " 10  CCDI        158448 non-null  object  \n",
      " 11  DEPARTAMEN  158448 non-null  object  \n",
      " 12  PROVINCIA   158448 non-null  object  \n",
      " 13  DISTRITO    158448 non-null  object  \n",
      " 14  OBJECTID    158448 non-null  float64 \n",
      " 15  ESRI_OID    158448 non-null  float64 \n",
      " 16  year        158448 non-null  int64   \n",
      " 17  quarter     158448 non-null  int64   \n",
      " 18  geometry    158448 non-null  geometry\n",
      "dtypes: float64(2), geometry(1), int64(8), object(8)\n",
      "memory usage: 23.0+ MB\n"
     ]
    }
   ],
   "source": [
    "combined_data.info()"
   ]
  },
  {
   "cell_type": "code",
   "execution_count": 18,
   "metadata": {
    "colab": {
     "base_uri": "https://localhost:8080/"
    },
    "executionInfo": {
     "elapsed": 3167,
     "status": "ok",
     "timestamp": 1733947672747,
     "user": {
      "displayName": "MAX LENIN CHIPANI LIMA",
      "userId": "14830228347600256043"
     },
     "user_tz": 300
    },
    "id": "MH8Iiqc0Dqct",
    "outputId": "128a10b7-3b14-46f3-8104-c9c536c0e86d"
   },
   "outputs": [
    {
     "name": "stdout",
     "output_type": "stream",
     "text": [
      "Requirement already satisfied: folium in c:\\users\\user\\anaconda3\\envs\\ookla\\lib\\site-packages (0.14.0)\n",
      "Requirement already satisfied: branca>=0.6.0 in c:\\users\\user\\anaconda3\\envs\\ookla\\lib\\site-packages (from folium) (0.6.0)\n",
      "Requirement already satisfied: jinja2>=2.9 in c:\\users\\user\\anaconda3\\envs\\ookla\\lib\\site-packages (from folium) (3.1.4)\n",
      "Requirement already satisfied: numpy in c:\\users\\user\\anaconda3\\envs\\ookla\\lib\\site-packages (from folium) (1.24.3)\n",
      "Requirement already satisfied: requests in c:\\users\\user\\anaconda3\\envs\\ookla\\lib\\site-packages (from folium) (2.32.3)\n",
      "Requirement already satisfied: MarkupSafe>=2.0 in c:\\users\\user\\anaconda3\\envs\\ookla\\lib\\site-packages (from jinja2>=2.9->folium) (2.1.3)\n",
      "Requirement already satisfied: charset-normalizer<4,>=2 in c:\\users\\user\\anaconda3\\envs\\ookla\\lib\\site-packages (from requests->folium) (3.3.2)\n",
      "Requirement already satisfied: idna<4,>=2.5 in c:\\users\\user\\anaconda3\\envs\\ookla\\lib\\site-packages (from requests->folium) (3.7)\n",
      "Requirement already satisfied: urllib3<3,>=1.21.1 in c:\\users\\user\\anaconda3\\envs\\ookla\\lib\\site-packages (from requests->folium) (2.2.3)\n",
      "Requirement already satisfied: certifi>=2017.4.17 in c:\\users\\user\\anaconda3\\envs\\ookla\\lib\\site-packages (from requests->folium) (2024.12.14)\n",
      "Note: you may need to restart the kernel to use updated packages.\n"
     ]
    }
   ],
   "source": [
    "pip install folium\n"
   ]
  },
  {
   "cell_type": "code",
   "execution_count": 58,
   "metadata": {
    "colab": {
     "base_uri": "https://localhost:8080/"
    },
    "executionInfo": {
     "elapsed": 581,
     "status": "ok",
     "timestamp": 1733947685430,
     "user": {
      "displayName": "MAX LENIN CHIPANI LIMA",
      "userId": "14830228347600256043"
     },
     "user_tz": 300
    },
    "id": "PBHiaMvwDHlH",
    "outputId": "950fc8c5-fc3d-4522-b842-7106e382df08"
   },
   "outputs": [
    {
     "name": "stdout",
     "output_type": "stream",
     "text": [
      "<class 'geopandas.geodataframe.GeoDataFrame'>\n",
      "Index: 48596 entries, 0 to 153356\n",
      "Data columns (total 19 columns):\n",
      " #   Column      Non-Null Count  Dtype   \n",
      "---  ------      --------------  -----   \n",
      " 0   quadkey     48596 non-null  object  \n",
      " 1   avg_d_kbps  48596 non-null  int64   \n",
      " 2   avg_u_kbps  48596 non-null  int64   \n",
      " 3   avg_lat_ms  48596 non-null  int64   \n",
      " 4   tests       48596 non-null  int64   \n",
      " 5   devices     48596 non-null  int64   \n",
      " 6   index_righ  48596 non-null  int64   \n",
      " 7   UBIGEO      48596 non-null  object  \n",
      " 8   CCDD        48596 non-null  object  \n",
      " 9   CCPP        48596 non-null  object  \n",
      " 10  CCDI        48596 non-null  object  \n",
      " 11  DEPARTAMEN  48596 non-null  object  \n",
      " 12  PROVINCIA   48596 non-null  object  \n",
      " 13  DISTRITO    48596 non-null  object  \n",
      " 14  OBJECTID    48596 non-null  float64 \n",
      " 15  ESRI_OID    48596 non-null  float64 \n",
      " 16  year        48596 non-null  int64   \n",
      " 17  quarter     48596 non-null  int64   \n",
      " 18  geometry    48596 non-null  geometry\n",
      "dtypes: float64(2), geometry(1), int64(8), object(8)\n",
      "memory usage: 7.4+ MB\n",
      "None\n"
     ]
    }
   ],
   "source": [
    "# Filtrar los datos para quedarnos con LIMA y CALLAO\n",
    "filtered_data = combined_data[combined_data['PROVINCIA'].isin([\"LIMA\", \"CALLAO\"])]\n",
    "\n",
    "# Mostrar las primeras filas para inspeccionar\n",
    "print(filtered_data.info())"
   ]
  },
  {
   "cell_type": "code",
   "execution_count": 21,
   "metadata": {},
   "outputs": [],
   "source": [
    "# Exportar el GeoDataFrame a un archivo GeoJSON\n",
    "filtered_data.to_file(\"../output/filtered_data.geojson\", driver=\"GeoJSON\")"
   ]
  },
  {
   "cell_type": "code",
   "execution_count": 2,
   "metadata": {},
   "outputs": [],
   "source": [
    "filtered_data = gp.read_file('../output/filtered_data.geojson')"
   ]
  },
  {
   "cell_type": "code",
   "execution_count": 3,
   "metadata": {
    "id": "bK2oCDJq0uRO"
   },
   "outputs": [],
   "source": [
    "import geopandas as gpd"
   ]
  },
  {
   "cell_type": "code",
   "execution_count": 4,
   "metadata": {
    "id": "R9zvK-ClFb0d"
   },
   "outputs": [],
   "source": [
    "distrital_gdf = gpd.read_file(\"../input/Shapefiles Lima Peru/Distritos/Distrital INEI 2023 geogpsperu SuyoPomalia.shp\")\n",
    "\n",
    "distrital_gdf.to_file(\"../output/Distrital INEI 2023 geogpsperu SuyoPomalia.geojson\", driver=\"GeoJSON\")"
   ]
  },
  {
   "cell_type": "code",
   "execution_count": 5,
   "metadata": {
    "colab": {
     "base_uri": "https://localhost:8080/"
    },
    "executionInfo": {
     "elapsed": 907,
     "status": "ok",
     "timestamp": 1733884928614,
     "user": {
      "displayName": "MAX LENIN CHIPANI LIMA",
      "userId": "14830228347600256043"
     },
     "user_tz": 300
    },
    "id": "RFQXk7RWW0Zx",
    "outputId": "d7614977-dee4-4485-f79a-cc8b46dbc2d3"
   },
   "outputs": [
    {
     "name": "stdout",
     "output_type": "stream",
     "text": [
      "Número de quadkeys únicos presentes en dos o más distritos en el mismo periodo: 0\n"
     ]
    }
   ],
   "source": [
    "import geopandas as gpd\n",
    "\n",
    "# 1. Filtrar los distritos para incluir sólo Lima y Callao\n",
    "distrital_gdf_lima = distrital_gdf[distrital_gdf['PROVINCIA'].isin(['LIMA', 'CALLAO'])]\n",
    "\n",
    "# Asegurar que ambos GeoDataFrames tienen CRS definido\n",
    "if filtered_data.crs is None:\n",
    "    filtered_data = filtered_data.set_crs(epsg=4326)\n",
    "\n",
    "if distrital_gdf_lima.crs is None:\n",
    "    distrital_gdf_lima = distrital_gdf_lima.set_crs(epsg=4326)\n",
    "\n",
    "# Reproyectar a un CRS proyectado (opcional)\n",
    "filtered_data = filtered_data.to_crs(epsg=32718)\n",
    "distrital_gdf_lima = distrital_gdf_lima.to_crs(epsg=32718)\n",
    "\n",
    "# 2. Calcular centroides como una columna separada\n",
    "filtered_data['centroid'] = filtered_data.geometry.centroid\n",
    "\n",
    "# 3. Crear un GeoDataFrame para los centroides\n",
    "centroids_gdf = gpd.GeoDataFrame(\n",
    "    filtered_data[['quadkey', 'year', 'quarter', 'centroid']],  # Usar sólo las columnas necesarias\n",
    "    geometry='centroid',\n",
    "    crs=filtered_data.crs\n",
    ")\n",
    "\n",
    "# 4. Realizar el spatial join con los distritos de Lima y Callao\n",
    "quadkeys_with_district = gpd.sjoin(\n",
    "    centroids_gdf,\n",
    "    distrital_gdf_lima[['DISTRITO', 'geometry']],  # Usar sólo las columnas necesarias\n",
    "    how='left',\n",
    "    predicate='within'\n",
    ")\n",
    "\n",
    "# Renombrar la columna 'DISTRITO' proveniente del sjoin\n",
    "quadkeys_with_district.rename(columns={'DISTRITO': 'DISTRITO_asignado'}, inplace=True)\n",
    "\n",
    "# 5. Eliminar duplicados por quadkey, year y quarter\n",
    "quadkeys_with_district = (\n",
    "    quadkeys_with_district.sort_values(by=['quadkey', 'year', 'quarter'])\n",
    "    .drop_duplicates(subset=['quadkey', 'year', 'quarter'], keep='first')\n",
    ")\n",
    "\n",
    "# 6. Fusionar con los datos originales y reemplazar la columna 'DISTRITO'\n",
    "# Primero, eliminamos la columna 'DISTRITO' original para evitar conflictos\n",
    "filtered_data = filtered_data.drop(columns=['DISTRITO'])\n",
    "\n",
    "# Ahora hacemos el merge\n",
    "quadkeys_final = filtered_data.merge(\n",
    "    quadkeys_with_district[['quadkey', 'year', 'quarter', 'DISTRITO_asignado']],\n",
    "    on=['quadkey', 'year', 'quarter'],\n",
    "    how='left'\n",
    ")\n",
    "\n",
    "# Renombrar la columna 'DISTRITO_asignado' a 'DISTRITO'\n",
    "quadkeys_final.rename(columns={'DISTRITO_asignado': 'DISTRITO'}, inplace=True)\n",
    "\n",
    "# 7. Restaurar CRS a EPSG:4326 si es necesario\n",
    "quadkeys_final = quadkeys_final.to_crs(epsg=4326)\n",
    "\n",
    "# 8. Verificar que no queden duplicados\n",
    "quadkey_district_count = (\n",
    "    quadkeys_final.groupby(['quadkey', 'year', 'quarter'])['DISTRITO'].nunique()\n",
    ")\n",
    "quadkeys_in_multiple_districts = quadkey_district_count[quadkey_district_count >= 2]\n",
    "\n",
    "print(\"Número de quadkeys únicos presentes en dos o más distritos en el mismo periodo:\", len(quadkeys_in_multiple_districts))\n"
   ]
  },
  {
   "cell_type": "code",
   "execution_count": 6,
   "metadata": {
    "colab": {
     "base_uri": "https://localhost:8080/"
    },
    "executionInfo": {
     "elapsed": 291,
     "status": "ok",
     "timestamp": 1733947788142,
     "user": {
      "displayName": "MAX LENIN CHIPANI LIMA",
      "userId": "14830228347600256043"
     },
     "user_tz": 300
    },
    "id": "-PLQUvioW_ef",
    "outputId": "dc5c9631-5897-4cec-8cee-3d0ac15d1d84"
   },
   "outputs": [
    {
     "name": "stdout",
     "output_type": "stream",
     "text": [
      "<class 'geopandas.geodataframe.GeoDataFrame'>\n",
      "RangeIndex: 48596 entries, 0 to 48595\n",
      "Data columns (total 20 columns):\n",
      " #   Column      Non-Null Count  Dtype   \n",
      "---  ------      --------------  -----   \n",
      " 0   quadkey     48596 non-null  object  \n",
      " 1   avg_d_kbps  48596 non-null  int64   \n",
      " 2   avg_u_kbps  48596 non-null  int64   \n",
      " 3   avg_lat_ms  48596 non-null  int64   \n",
      " 4   tests       48596 non-null  int64   \n",
      " 5   devices     48596 non-null  int64   \n",
      " 6   index_righ  48596 non-null  int64   \n",
      " 7   UBIGEO      48596 non-null  object  \n",
      " 8   CCDD        48596 non-null  object  \n",
      " 9   CCPP        48596 non-null  object  \n",
      " 10  CCDI        48596 non-null  object  \n",
      " 11  DEPARTAMEN  48596 non-null  object  \n",
      " 12  PROVINCIA   48596 non-null  object  \n",
      " 13  OBJECTID    48596 non-null  float64 \n",
      " 14  ESRI_OID    48596 non-null  float64 \n",
      " 15  year        48596 non-null  int64   \n",
      " 16  quarter     48596 non-null  int64   \n",
      " 17  geometry    48596 non-null  geometry\n",
      " 18  centroid    48596 non-null  geometry\n",
      " 19  DISTRITO    47962 non-null  object  \n",
      "dtypes: float64(2), geometry(2), int64(8), object(8)\n",
      "memory usage: 7.4+ MB\n"
     ]
    }
   ],
   "source": [
    "quadkeys_final.info()"
   ]
  },
  {
   "cell_type": "code",
   "execution_count": 7,
   "metadata": {
    "id": "FZmTNCeu1aSm"
   },
   "outputs": [],
   "source": [
    "quadkeys_final_final = quadkeys_final.drop_duplicates(subset=['quadkey', 'year', 'quarter'])"
   ]
  },
  {
   "cell_type": "code",
   "execution_count": 8,
   "metadata": {
    "colab": {
     "base_uri": "https://localhost:8080/"
    },
    "executionInfo": {
     "elapsed": 324,
     "status": "ok",
     "timestamp": 1733947847531,
     "user": {
      "displayName": "MAX LENIN CHIPANI LIMA",
      "userId": "14830228347600256043"
     },
     "user_tz": 300
    },
    "id": "t__igGXTTDmE",
    "outputId": "106a986f-7544-4863-c856-fb78fd7d23f0"
   },
   "outputs": [
    {
     "name": "stdout",
     "output_type": "stream",
     "text": [
      "Número de quadkeys únicos presentes en dos o más distritos: 0\n",
      "\n",
      "Ejemplo de quadkeys presentes en múltiples distritos:\n",
      "Series([], Name: DISTRITO, dtype: int64)\n"
     ]
    }
   ],
   "source": [
    "# Contar en cuántos distritos está presente cada quadkey\n",
    "quadkey_district_count = quadkeys_final_final.groupby(['quadkey'])['DISTRITO'].nunique()\n",
    "\n",
    "# Filtrar para quadkeys presentes en dos o más distritos\n",
    "quadkeys_in_multiple_districts = quadkey_district_count[quadkey_district_count >= 2]\n",
    "\n",
    "# Contar cuántos quadkeys únicos están presentes en dos o más distritos\n",
    "count_quadkeys_in_multiple_districts = len(quadkeys_in_multiple_districts)\n",
    "\n",
    "# Mostrar el resultado\n",
    "print(\"Número de quadkeys únicos presentes en dos o más distritos:\", count_quadkeys_in_multiple_districts)\n",
    "print(\"\\nEjemplo de quadkeys presentes en múltiples distritos:\")\n",
    "print(quadkeys_in_multiple_districts.head())"
   ]
  },
  {
   "cell_type": "code",
   "execution_count": 9,
   "metadata": {
    "colab": {
     "base_uri": "https://localhost:8080/"
    },
    "executionInfo": {
     "elapsed": 352,
     "status": "ok",
     "timestamp": 1733947937610,
     "user": {
      "displayName": "MAX LENIN CHIPANI LIMA",
      "userId": "14830228347600256043"
     },
     "user_tz": 300
    },
    "id": "4yvceE9cWaqQ",
    "outputId": "ced8ddc8-c1d4-471f-e4bc-01cdf1b910fe"
   },
   "outputs": [
    {
     "name": "stdout",
     "output_type": "stream",
     "text": [
      "<class 'geopandas.geodataframe.GeoDataFrame'>\n",
      "Index: 36912 entries, 0 to 48595\n",
      "Data columns (total 20 columns):\n",
      " #   Column      Non-Null Count  Dtype   \n",
      "---  ------      --------------  -----   \n",
      " 0   quadkey     36912 non-null  object  \n",
      " 1   avg_d_kbps  36912 non-null  int64   \n",
      " 2   avg_u_kbps  36912 non-null  int64   \n",
      " 3   avg_lat_ms  36912 non-null  int64   \n",
      " 4   tests       36912 non-null  int64   \n",
      " 5   devices     36912 non-null  int64   \n",
      " 6   index_righ  36912 non-null  int64   \n",
      " 7   UBIGEO      36912 non-null  object  \n",
      " 8   CCDD        36912 non-null  object  \n",
      " 9   CCPP        36912 non-null  object  \n",
      " 10  CCDI        36912 non-null  object  \n",
      " 11  DEPARTAMEN  36912 non-null  object  \n",
      " 12  PROVINCIA   36912 non-null  object  \n",
      " 13  OBJECTID    36912 non-null  float64 \n",
      " 14  ESRI_OID    36912 non-null  float64 \n",
      " 15  year        36912 non-null  int64   \n",
      " 16  quarter     36912 non-null  int64   \n",
      " 17  geometry    36912 non-null  geometry\n",
      " 18  centroid    36912 non-null  geometry\n",
      " 19  DISTRITO    36322 non-null  object  \n",
      "dtypes: float64(2), geometry(2), int64(8), object(8)\n",
      "memory usage: 5.9+ MB\n"
     ]
    }
   ],
   "source": [
    "quadkeys_final_final.info()"
   ]
  },
  {
   "cell_type": "code",
   "execution_count": 10,
   "metadata": {
    "colab": {
     "base_uri": "https://localhost:8080/",
     "height": 573
    },
    "executionInfo": {
     "elapsed": 1324,
     "status": "ok",
     "timestamp": 1733947980646,
     "user": {
      "displayName": "MAX LENIN CHIPANI LIMA",
      "userId": "14830228347600256043"
     },
     "user_tz": 300
    },
    "id": "HCvWyyt-WlEk",
    "outputId": "afbaa058-3595-486e-a02c-3aaaea30e88d"
   },
   "outputs": [
    {
     "data": {
      "text/html": [
       "<div>\n",
       "<style scoped>\n",
       "    .dataframe tbody tr th:only-of-type {\n",
       "        vertical-align: middle;\n",
       "    }\n",
       "\n",
       "    .dataframe tbody tr th {\n",
       "        vertical-align: top;\n",
       "    }\n",
       "\n",
       "    .dataframe thead th {\n",
       "        text-align: right;\n",
       "    }\n",
       "</style>\n",
       "<table border=\"1\" class=\"dataframe\">\n",
       "  <thead>\n",
       "    <tr style=\"text-align: right;\">\n",
       "      <th></th>\n",
       "      <th>quadkey</th>\n",
       "      <th>avg_d_kbps</th>\n",
       "      <th>avg_u_kbps</th>\n",
       "      <th>avg_lat_ms</th>\n",
       "      <th>tests</th>\n",
       "      <th>devices</th>\n",
       "      <th>index_righ</th>\n",
       "      <th>UBIGEO</th>\n",
       "      <th>CCDD</th>\n",
       "      <th>CCPP</th>\n",
       "      <th>CCDI</th>\n",
       "      <th>DEPARTAMEN</th>\n",
       "      <th>PROVINCIA</th>\n",
       "      <th>OBJECTID</th>\n",
       "      <th>ESRI_OID</th>\n",
       "      <th>year</th>\n",
       "      <th>quarter</th>\n",
       "      <th>geometry</th>\n",
       "      <th>centroid</th>\n",
       "      <th>DISTRITO</th>\n",
       "    </tr>\n",
       "  </thead>\n",
       "  <tbody>\n",
       "    <tr>\n",
       "      <th>0</th>\n",
       "      <td>2100300121202033</td>\n",
       "      <td>39338</td>\n",
       "      <td>7386</td>\n",
       "      <td>18</td>\n",
       "      <td>478</td>\n",
       "      <td>56</td>\n",
       "      <td>1332</td>\n",
       "      <td>150140</td>\n",
       "      <td>15</td>\n",
       "      <td>01</td>\n",
       "      <td>40</td>\n",
       "      <td>LIMA</td>\n",
       "      <td>LIMA</td>\n",
       "      <td>1333.0</td>\n",
       "      <td>1333.0</td>\n",
       "      <td>2019</td>\n",
       "      <td>1</td>\n",
       "      <td>POLYGON ((-76.97571 -12.09841, -76.97021 -12.0...</td>\n",
       "      <td>POINT (285266.610 8661492.114)</td>\n",
       "      <td>SANTIAGO DE SURCO</td>\n",
       "    </tr>\n",
       "    <tr>\n",
       "      <th>1</th>\n",
       "      <td>2100300121202222</td>\n",
       "      <td>26534</td>\n",
       "      <td>6529</td>\n",
       "      <td>26</td>\n",
       "      <td>171</td>\n",
       "      <td>40</td>\n",
       "      <td>1332</td>\n",
       "      <td>150140</td>\n",
       "      <td>15</td>\n",
       "      <td>01</td>\n",
       "      <td>40</td>\n",
       "      <td>LIMA</td>\n",
       "      <td>LIMA</td>\n",
       "      <td>1333.0</td>\n",
       "      <td>1333.0</td>\n",
       "      <td>2019</td>\n",
       "      <td>1</td>\n",
       "      <td>POLYGON ((-76.99219 -12.11989, -76.98669 -12.1...</td>\n",
       "      <td>POINT (283489.678 8659102.160)</td>\n",
       "      <td>SANTIAGO DE SURCO</td>\n",
       "    </tr>\n",
       "    <tr>\n",
       "      <th>2</th>\n",
       "      <td>2100300120331133</td>\n",
       "      <td>23960</td>\n",
       "      <td>4519</td>\n",
       "      <td>16</td>\n",
       "      <td>225</td>\n",
       "      <td>32</td>\n",
       "      <td>1332</td>\n",
       "      <td>150140</td>\n",
       "      <td>15</td>\n",
       "      <td>01</td>\n",
       "      <td>40</td>\n",
       "      <td>LIMA</td>\n",
       "      <td>LIMA</td>\n",
       "      <td>1333.0</td>\n",
       "      <td>1333.0</td>\n",
       "      <td>2019</td>\n",
       "      <td>1</td>\n",
       "      <td>POLYGON ((-76.99768 -12.14138, -76.99219 -12.1...</td>\n",
       "      <td>POINT (282909.038 8656721.030)</td>\n",
       "      <td>SANTIAGO DE SURCO</td>\n",
       "    </tr>\n",
       "    <tr>\n",
       "      <th>3</th>\n",
       "      <td>2100300120313331</td>\n",
       "      <td>23637</td>\n",
       "      <td>4033</td>\n",
       "      <td>29</td>\n",
       "      <td>235</td>\n",
       "      <td>60</td>\n",
       "      <td>1332</td>\n",
       "      <td>150140</td>\n",
       "      <td>15</td>\n",
       "      <td>01</td>\n",
       "      <td>40</td>\n",
       "      <td>LIMA</td>\n",
       "      <td>LIMA</td>\n",
       "      <td>1333.0</td>\n",
       "      <td>1333.0</td>\n",
       "      <td>2019</td>\n",
       "      <td>1</td>\n",
       "      <td>POLYGON ((-76.99768 -12.11452, -76.99219 -12.1...</td>\n",
       "      <td>POINT (282887.291 8659692.011)</td>\n",
       "      <td>SANTIAGO DE SURCO</td>\n",
       "    </tr>\n",
       "    <tr>\n",
       "      <th>4</th>\n",
       "      <td>2100300121202231</td>\n",
       "      <td>34316</td>\n",
       "      <td>6107</td>\n",
       "      <td>17</td>\n",
       "      <td>255</td>\n",
       "      <td>42</td>\n",
       "      <td>1332</td>\n",
       "      <td>150140</td>\n",
       "      <td>15</td>\n",
       "      <td>01</td>\n",
       "      <td>40</td>\n",
       "      <td>LIMA</td>\n",
       "      <td>LIMA</td>\n",
       "      <td>1333.0</td>\n",
       "      <td>1333.0</td>\n",
       "      <td>2019</td>\n",
       "      <td>1</td>\n",
       "      <td>POLYGON ((-76.97571 -12.11452, -76.97021 -12.1...</td>\n",
       "      <td>POINT (285279.493 8659709.406)</td>\n",
       "      <td>SANTIAGO DE SURCO</td>\n",
       "    </tr>\n",
       "  </tbody>\n",
       "</table>\n",
       "</div>"
      ],
      "text/plain": [
       "            quadkey  avg_d_kbps  avg_u_kbps  avg_lat_ms  tests  devices  \\\n",
       "0  2100300121202033       39338        7386          18    478       56   \n",
       "1  2100300121202222       26534        6529          26    171       40   \n",
       "2  2100300120331133       23960        4519          16    225       32   \n",
       "3  2100300120313331       23637        4033          29    235       60   \n",
       "4  2100300121202231       34316        6107          17    255       42   \n",
       "\n",
       "   index_righ  UBIGEO CCDD CCPP CCDI DEPARTAMEN PROVINCIA  OBJECTID  ESRI_OID  \\\n",
       "0        1332  150140   15   01   40       LIMA      LIMA    1333.0    1333.0   \n",
       "1        1332  150140   15   01   40       LIMA      LIMA    1333.0    1333.0   \n",
       "2        1332  150140   15   01   40       LIMA      LIMA    1333.0    1333.0   \n",
       "3        1332  150140   15   01   40       LIMA      LIMA    1333.0    1333.0   \n",
       "4        1332  150140   15   01   40       LIMA      LIMA    1333.0    1333.0   \n",
       "\n",
       "   year  quarter                                           geometry  \\\n",
       "0  2019        1  POLYGON ((-76.97571 -12.09841, -76.97021 -12.0...   \n",
       "1  2019        1  POLYGON ((-76.99219 -12.11989, -76.98669 -12.1...   \n",
       "2  2019        1  POLYGON ((-76.99768 -12.14138, -76.99219 -12.1...   \n",
       "3  2019        1  POLYGON ((-76.99768 -12.11452, -76.99219 -12.1...   \n",
       "4  2019        1  POLYGON ((-76.97571 -12.11452, -76.97021 -12.1...   \n",
       "\n",
       "                         centroid           DISTRITO  \n",
       "0  POINT (285266.610 8661492.114)  SANTIAGO DE SURCO  \n",
       "1  POINT (283489.678 8659102.160)  SANTIAGO DE SURCO  \n",
       "2  POINT (282909.038 8656721.030)  SANTIAGO DE SURCO  \n",
       "3  POINT (282887.291 8659692.011)  SANTIAGO DE SURCO  \n",
       "4  POINT (285279.493 8659709.406)  SANTIAGO DE SURCO  "
      ]
     },
     "execution_count": 10,
     "metadata": {},
     "output_type": "execute_result"
    }
   ],
   "source": [
    "quadkeys_final_final.head()"
   ]
  },
  {
   "cell_type": "code",
   "execution_count": 11,
   "metadata": {},
   "outputs": [
    {
     "name": "stdout",
     "output_type": "stream",
     "text": [
      "Columna 'centroid' eliminada.\n"
     ]
    }
   ],
   "source": [
    "if 'centroid' in quadkeys_final_final.columns:\n",
    "    quadkeys_final_final1 = quadkeys_final_final.drop(columns=['centroid'])\n",
    "    print(\"Columna 'centroid' eliminada.\")\n",
    "else:\n",
    "    print(\"La columna 'centroid' no existe en quadkeys_final_final.\")"
   ]
  },
  {
   "cell_type": "code",
   "execution_count": 12,
   "metadata": {},
   "outputs": [],
   "source": [
    "quadkeys_final_final1.to_file(\"../output/quadkeys_final_final1.geojson\", driver=\"GeoJSON\")"
   ]
  },
  {
   "cell_type": "code",
   "execution_count": 13,
   "metadata": {
    "colab": {
     "base_uri": "https://localhost:8080/"
    },
    "executionInfo": {
     "elapsed": 284,
     "status": "ok",
     "timestamp": 1733948233065,
     "user": {
      "displayName": "MAX LENIN CHIPANI LIMA",
      "userId": "14830228347600256043"
     },
     "user_tz": 300
    },
    "id": "yHItC-EmkQHw",
    "outputId": "8a5ce2ac-aff8-4d1e-e761-01fcc3cab0d1"
   },
   "outputs": [
    {
     "name": "stdout",
     "output_type": "stream",
     "text": [
      "Columna 'centroid' eliminada.\n"
     ]
    }
   ],
   "source": [
    "# Verificar si la columna 'centroid' existe y eliminarla\n",
    "if 'centroid' in quadkeys_final_final.columns:\n",
    "    quadkeys_final_final = quadkeys_final_final.drop(columns=['centroid'])\n",
    "    print(\"Columna 'centroid' eliminada.\")\n",
    "else:\n",
    "    print(\"La columna 'centroid' no existe en el GeoDataFrame.\")\n"
   ]
  },
  {
   "cell_type": "code",
   "execution_count": 14,
   "metadata": {
    "colab": {
     "base_uri": "https://localhost:8080/"
    },
    "executionInfo": {
     "elapsed": 304,
     "status": "ok",
     "timestamp": 1733885945657,
     "user": {
      "displayName": "MAX LENIN CHIPANI LIMA",
      "userId": "14830228347600256043"
     },
     "user_tz": 300
    },
    "id": "soDjbHpHLw_a",
    "outputId": "593b19cb-1548-47cb-f55a-fe9bc225f283"
   },
   "outputs": [
    {
     "name": "stdout",
     "output_type": "stream",
     "text": [
      "     UBIGEO CCDD CCPP CCDI DEPARTAMEN PROVINCIA                    DISTRITO  \\\n",
      "695  070101   07   01   01     CALLAO    CALLAO                      CALLAO   \n",
      "696  070102   07   01   02     CALLAO    CALLAO                  BELLAVISTA   \n",
      "697  070103   07   01   03     CALLAO    CALLAO  CARMEN DE LA LEGUA REYNOSO   \n",
      "698  070104   07   01   04     CALLAO    CALLAO                    LA PERLA   \n",
      "699  070105   07   01   05     CALLAO    CALLAO                    LA PUNTA   \n",
      "\n",
      "     OBJECTID  ESRI_OID                                           geometry  \n",
      "695     696.0     696.0  POLYGON ((-77.12995 -11.93682, -77.12990 -11.9...  \n",
      "696     697.0     697.0  POLYGON ((-77.08767 -12.05191, -77.08768 -12.0...  \n",
      "697     698.0     698.0  POLYGON ((-77.08303 -12.03634, -77.08297 -12.0...  \n",
      "698     699.0     699.0  POLYGON ((-77.10465 -12.06328, -77.10460 -12.0...  \n",
      "699     700.0     700.0  POLYGON ((-77.15878 -12.06647, -77.15875 -12.0...  \n",
      "Número de distritos seleccionados: 50\n"
     ]
    }
   ],
   "source": [
    "# Filtrar distritos de las provincias \"LIMA\" y \"CALLAO\"\n",
    "lima_callao_gdf = distrital_gdf[distrital_gdf['PROVINCIA'].isin(['LIMA', 'CALLAO'])]\n",
    "\n",
    "# Inspeccionar los resultados\n",
    "print(lima_callao_gdf.head())\n",
    "print(f\"Número de distritos seleccionados: {len(lima_callao_gdf)}\")\n"
   ]
  },
  {
   "cell_type": "code",
   "execution_count": 15,
   "metadata": {
    "colab": {
     "base_uri": "https://localhost:8080/"
    },
    "executionInfo": {
     "elapsed": 656,
     "status": "ok",
     "timestamp": 1733885951085,
     "user": {
      "displayName": "MAX LENIN CHIPANI LIMA",
      "userId": "14830228347600256043"
     },
     "user_tz": 300
    },
    "id": "lrClDvhILyYJ",
    "outputId": "2f100ed3-6f1d-45eb-c443-cc352ecb36a1"
   },
   "outputs": [
    {
     "name": "stdout",
     "output_type": "stream",
     "text": [
      "EPSG:4326\n"
     ]
    }
   ],
   "source": [
    "# Verificar el CRS actual\n",
    "print(distrital_gdf.crs)\n",
    "\n",
    "# Transformar a EPSG:4326 si es necesario\n",
    "if distrital_gdf.crs != \"EPSG:4326\":\n",
    "    lima_callao_gdf = lima_callao_gdf.to_crs(epsg=4326)\n"
   ]
  },
  {
   "cell_type": "code",
   "execution_count": 16,
   "metadata": {
    "colab": {
     "base_uri": "https://localhost:8080/"
    },
    "executionInfo": {
     "elapsed": 587,
     "status": "ok",
     "timestamp": 1733885952999,
     "user": {
      "displayName": "MAX LENIN CHIPANI LIMA",
      "userId": "14830228347600256043"
     },
     "user_tz": 300
    },
    "id": "OcaIKAt9L5t-",
    "outputId": "14b27d74-b31d-44e7-b4b0-afed90eb5cda"
   },
   "outputs": [
    {
     "name": "stdout",
     "output_type": "stream",
     "text": [
      "Archivo GeoJSON exportado correctamente.\n"
     ]
    }
   ],
   "source": [
    "# Exportar a GeoJSON\n",
    "lima_callao_gdf.to_file(\"../output/lima_callao.geojson\", driver=\"GeoJSON\")\n",
    "\n",
    "print(\"Archivo GeoJSON exportado correctamente.\")\n"
   ]
  },
  {
   "cell_type": "markdown",
   "metadata": {},
   "source": [
    "### quadkeys con casos de NaN en la columna DISTRITO son imputados de acuerdo al criterio de mayor área de la grilla que se intersecta con el área del distrito cercano"
   ]
  },
  {
   "cell_type": "code",
   "execution_count": 17,
   "metadata": {
    "colab": {
     "base_uri": "https://localhost:8080/"
    },
    "executionInfo": {
     "elapsed": 967,
     "status": "ok",
     "timestamp": 1733950038931,
     "user": {
      "displayName": "MAX LENIN CHIPANI LIMA",
      "userId": "14830228347600256043"
     },
     "user_tz": 300
    },
    "id": "x64YnLnaedeW",
    "outputId": "e7a764de-b7c4-4c2a-acd6-f0271dc4ebf7"
   },
   "outputs": [
    {
     "name": "stdout",
     "output_type": "stream",
     "text": [
      "Columnas disponibles en intersections: Index(['quadkey', 'avg_d_kbps', 'avg_u_kbps', 'avg_lat_ms', 'tests', 'devices',\n",
      "       'index_righ', 'UBIGEO_1', 'CCDD_1', 'CCPP_1', 'CCDI_1', 'DEPARTAMEN_1',\n",
      "       'PROVINCIA_1', 'OBJECTID_1', 'ESRI_OID_1', 'year', 'quarter',\n",
      "       'DISTRITO_1', 'UBIGEO_2', 'CCDD_2', 'CCPP_2', 'CCDI_2', 'DEPARTAMEN_2',\n",
      "       'PROVINCIA_2', 'DISTRITO_2', 'OBJECTID_2', 'ESRI_OID_2', 'geometry'],\n",
      "      dtype='object')\n",
      "Imputación completada. Número de valores faltantes restantes en 'DISTRITO': 0\n"
     ]
    }
   ],
   "source": [
    "missing_distritos = quadkeys_final_final[quadkeys_final_final['DISTRITO'].isna()]\n",
    "# Reproyectar a un CRS proyectado (EPSG:32718)\n",
    "if missing_distritos.crs.to_string() != 'EPSG:32718':\n",
    "    missing_distritos = missing_distritos.to_crs(epsg=32718)\n",
    "\n",
    "if distrital_gdf.crs.to_string() != 'EPSG:32718':\n",
    "    distrital_gdf = distrital_gdf.to_crs(epsg=32718)\n",
    "\n",
    "# Calcular intersecciones\n",
    "intersections = gpd.overlay(missing_distritos, distrital_gdf, how='intersection')\n",
    "\n",
    "# Verificar las columnas disponibles\n",
    "print(\"Columnas disponibles en intersections:\", intersections.columns)\n",
    "\n",
    "# Usar la columna renombrada 'DISTRITO_2' para asignar distritos\n",
    "intersections['intersect_area'] = intersections.geometry.area\n",
    "\n",
    "# Encontrar el distrito con la mayor área de intersección para cada quadkey\n",
    "max_intersections = (\n",
    "    intersections.loc[intersections.groupby('quadkey')['intersect_area'].idxmax()]\n",
    ")\n",
    "\n",
    "# Cambiar 'DISTRITO_2' al nombre esperado para el merge\n",
    "max_intersections.rename(columns={'DISTRITO_2': 'DISTRITO'}, inplace=True)\n",
    "\n",
    "# Asignar el distrito correspondiente\n",
    "quadkeys_final_final = quadkeys_final_final.merge(\n",
    "    max_intersections[['quadkey', 'DISTRITO']],\n",
    "    on='quadkey',\n",
    "    how='left',\n",
    "    suffixes=('', '_imputed')\n",
    ")\n",
    "\n",
    "# Rellenar los valores faltantes en 'DISTRITO' con los imputados\n",
    "quadkeys_final_final['DISTRITO'] = quadkeys_final_final['DISTRITO'].fillna(\n",
    "    quadkeys_final_final['DISTRITO_imputed']\n",
    ")\n",
    "\n",
    "# Eliminar la columna temporal 'DISTRITO_imputed'\n",
    "quadkeys_final_final = quadkeys_final_final.drop(columns=['DISTRITO_imputed'])\n",
    "\n",
    "# Verificar el resultado final\n",
    "print(\"Imputación completada. Número de valores faltantes restantes en 'DISTRITO':\",\n",
    "      quadkeys_final_final['DISTRITO'].isna().sum())"
   ]
  },
  {
   "cell_type": "code",
   "execution_count": 18,
   "metadata": {},
   "outputs": [
    {
     "name": "stdout",
     "output_type": "stream",
     "text": [
      "<class 'geopandas.geodataframe.GeoDataFrame'>\n",
      "RangeIndex: 36912 entries, 0 to 36911\n",
      "Data columns (total 19 columns):\n",
      " #   Column      Non-Null Count  Dtype   \n",
      "---  ------      --------------  -----   \n",
      " 0   quadkey     36912 non-null  object  \n",
      " 1   avg_d_kbps  36912 non-null  int64   \n",
      " 2   avg_u_kbps  36912 non-null  int64   \n",
      " 3   avg_lat_ms  36912 non-null  int64   \n",
      " 4   tests       36912 non-null  int64   \n",
      " 5   devices     36912 non-null  int64   \n",
      " 6   index_righ  36912 non-null  int64   \n",
      " 7   UBIGEO      36912 non-null  object  \n",
      " 8   CCDD        36912 non-null  object  \n",
      " 9   CCPP        36912 non-null  object  \n",
      " 10  CCDI        36912 non-null  object  \n",
      " 11  DEPARTAMEN  36912 non-null  object  \n",
      " 12  PROVINCIA   36912 non-null  object  \n",
      " 13  OBJECTID    36912 non-null  float64 \n",
      " 14  ESRI_OID    36912 non-null  float64 \n",
      " 15  year        36912 non-null  int64   \n",
      " 16  quarter     36912 non-null  int64   \n",
      " 17  geometry    36912 non-null  geometry\n",
      " 18  DISTRITO    36912 non-null  object  \n",
      "dtypes: float64(2), geometry(1), int64(8), object(8)\n",
      "memory usage: 5.4+ MB\n"
     ]
    }
   ],
   "source": [
    "quadkeys_final_final.info()"
   ]
  },
  {
   "cell_type": "code",
   "execution_count": 28,
   "metadata": {},
   "outputs": [],
   "source": [
    "quadkeys_final_final.to_file(\"../output/quadkeys_final_final2.geojson\", driver=\"GeoJSON\")"
   ]
  },
  {
   "cell_type": "markdown",
   "metadata": {},
   "source": [
    "### Data para el análisis CSDID "
   ]
  },
  {
   "cell_type": "code",
   "execution_count": 19,
   "metadata": {},
   "outputs": [],
   "source": [
    "quadkeys_final_final['avg_d_mbps'] = quadkeys_final_final['avg_d_kbps'] / 1000"
   ]
  },
  {
   "cell_type": "code",
   "execution_count": 20,
   "metadata": {
    "colab": {
     "base_uri": "https://localhost:8080/"
    },
    "executionInfo": {
     "elapsed": 291,
     "status": "ok",
     "timestamp": 1733951190361,
     "user": {
      "displayName": "MAX LENIN CHIPANI LIMA",
      "userId": "14830228347600256043"
     },
     "user_tz": 300
    },
    "id": "8mVoym9UeiDj",
    "outputId": "85816f0d-00bc-4743-ba89-656961365996"
   },
   "outputs": [
    {
     "name": "stdout",
     "output_type": "stream",
     "text": [
      "            quadkey  avg_d_kbps  avg_u_kbps  avg_lat_ms  tests  devices  \\\n",
      "0  2100300121202033       39338        7386          18    478       56   \n",
      "1  2100300121202222       26534        6529          26    171       40   \n",
      "2  2100300120331133       23960        4519          16    225       32   \n",
      "3  2100300120313331       23637        4033          29    235       60   \n",
      "4  2100300121202231       34316        6107          17    255       42   \n",
      "\n",
      "   index_righ  UBIGEO CCDD CCPP CCDI DEPARTAMEN PROVINCIA  OBJECTID  ESRI_OID  \\\n",
      "0        1332  150140   15   01   40       LIMA      LIMA    1333.0    1333.0   \n",
      "1        1332  150140   15   01   40       LIMA      LIMA    1333.0    1333.0   \n",
      "2        1332  150140   15   01   40       LIMA      LIMA    1333.0    1333.0   \n",
      "3        1332  150140   15   01   40       LIMA      LIMA    1333.0    1333.0   \n",
      "4        1332  150140   15   01   40       LIMA      LIMA    1333.0    1333.0   \n",
      "\n",
      "   year  quarter           DISTRITO  avg_d_mbps  \n",
      "0  2019        1  SANTIAGO DE SURCO      39.338  \n",
      "1  2019        1  SANTIAGO DE SURCO      26.534  \n",
      "2  2019        1  SANTIAGO DE SURCO      23.960  \n",
      "3  2019        1  SANTIAGO DE SURCO      23.637  \n",
      "4  2019        1  SANTIAGO DE SURCO      34.316  \n",
      "<class 'pandas.core.frame.DataFrame'>\n"
     ]
    }
   ],
   "source": [
    "# Eliminar la columna 'geometry' para convertir el GeoDataFrame en un DataFrame\n",
    "quadkeys_final_df = quadkeys_final_final.drop(columns=['geometry'])\n",
    "\n",
    "# Verificar el resultado\n",
    "print(quadkeys_final_df.head())\n",
    "print(type(quadkeys_final_df))  # Debería ser <class 'pandas.core.frame.DataFrame'>\n"
   ]
  },
  {
   "cell_type": "code",
   "execution_count": 21,
   "metadata": {
    "colab": {
     "base_uri": "https://localhost:8080/"
    },
    "executionInfo": {
     "elapsed": 306,
     "status": "ok",
     "timestamp": 1733951589793,
     "user": {
      "displayName": "MAX LENIN CHIPANI LIMA",
      "userId": "14830228347600256043"
     },
     "user_tz": 300
    },
    "id": "fo53eGALkNbt",
    "outputId": "93d86e25-d92c-4988-814d-ce7b9707d07f"
   },
   "outputs": [
    {
     "name": "stdout",
     "output_type": "stream",
     "text": [
      "   year  quarter    DATE\n",
      "0  2019        1  2019Q1\n",
      "1  2019        1  2019Q1\n",
      "2  2019        1  2019Q1\n",
      "3  2019        1  2019Q1\n",
      "4  2019        1  2019Q1\n"
     ]
    }
   ],
   "source": [
    "# Crear la columna 'DATE' combinando 'year' y 'quarter'\n",
    "quadkeys_final_df['DATE'] = quadkeys_final_df['year'].astype(str) + \"Q\" + quadkeys_final_df['quarter'].astype(str)\n",
    "\n",
    "# Verificar el resultado\n",
    "print(quadkeys_final_df[['year', 'quarter', 'DATE']].head())\n"
   ]
  },
  {
   "cell_type": "code",
   "execution_count": 22,
   "metadata": {
    "colab": {
     "base_uri": "https://localhost:8080/"
    },
    "executionInfo": {
     "elapsed": 305,
     "status": "ok",
     "timestamp": 1733952899058,
     "user": {
      "displayName": "MAX LENIN CHIPANI LIMA",
      "userId": "14830228347600256043"
     },
     "user_tz": 300
    },
    "id": "b4jUHAmhkaPs",
    "outputId": "bf07e35e-cbff-41b4-b3ff-3b5d0108e00c"
   },
   "outputs": [
    {
     "name": "stdout",
     "output_type": "stream",
     "text": [
      "            DISTRITO Fecha_Entrada\n",
      "0  SANTIAGO DE SURCO        2020Q4\n",
      "1  SANTIAGO DE SURCO        2020Q4\n",
      "2  SANTIAGO DE SURCO        2020Q4\n",
      "3  SANTIAGO DE SURCO        2020Q4\n",
      "4  SANTIAGO DE SURCO        2020Q4\n"
     ]
    }
   ],
   "source": [
    "# Crear un diccionario de mapeo para los distritos y sus valores correspondientes\n",
    "fecha_entrada_mapping = {\n",
    "    \"SAN MIGUEL\": \"2019Q4\",\n",
    "    \"PUEBLO LIBRE\": \"2019Q4\",\n",
    "    \"SURQUILLO\": \"2020Q3\",\n",
    "    \"MAGDALENA DEL MAR\": \"2020Q3\",\n",
    "    \"JESUS MARIA\": \"2020Q3\",\n",
    "    \"LINCE\": \"2020Q3\",\n",
    "    \"BREÑA\": \"2020Q3\",\n",
    "    \"SANTIAGO DE SURCO\": \"2020Q4\",\n",
    "    \"MIRAFLORES\": \"2020Q4\",\n",
    "    \"CHORRILLOS\": \"2020Q4\",\n",
    "    \"LIMA\": \"2020Q4\",\n",
    "    \"SAN ISIDRO\": \"2020Q4\",\n",
    "    \"CALLAO\": \"2020Q4\",\n",
    "    \"LOS OLIVOS\": \"2020Q4\",\n",
    "    \"LA MOLINA\": \"2020Q4\",\n",
    "    \"EL AGUSTINO\": \"2020Q4\",\n",
    "    \"SAN MARTIN DE PORRES\": \"2020Q4\",\n",
    "    \"SAN JUAN DE LURIGANCHO\": \"2020Q4\",\n",
    "    \"LA VICTORIA\": \"2021Q1\",\n",
    "    \"SAN LUIS\": \"2021Q1\",\n",
    "    \"BARRANCO\": \"2021Q1\",\n",
    "    \"VILLA MARIA DEL TRIUNFO\": \"2021Q2\",\n",
    "    \"VILLA EL SALVADOR\": \"2021Q2\",\n",
    "    \"INDEPENDENCIA\": \"2021Q2\",\n",
    "    \"CARMEN DE LA LEGUA REYNOSO\": \"2021Q2\",\n",
    "    \"ATE\": \"2021Q2\",\n",
    "    \"SAN JUAN DE MIRAFLORES\": \"2021Q2\",\n",
    "    \"COMAS\": \"2021Q3\",\n",
    "    \"RIMAC\": \"2021Q3\",\n",
    "    \"SANTA ANITA\": \"2021Q3\",\n",
    "    \"SAN BORJA\": \"2021Q3\",\n",
    "    \"CARABAYLLO\": \"2021Q3\",\n",
    "    \"PUENTE PIEDRA\": \"2021Q4\"\n",
    "}\n",
    "\n",
    "# Crear la nueva columna 'Fecha_Entrada' mapeando los valores del distrito\n",
    "quadkeys_final_df['Fecha_Entrada'] = quadkeys_final_df['DISTRITO'].map(fecha_entrada_mapping)\n",
    "\n",
    "# Verificar el resultado\n",
    "print(quadkeys_final_df[['DISTRITO', 'Fecha_Entrada']].head())\n"
   ]
  },
  {
   "cell_type": "code",
   "execution_count": 23,
   "metadata": {
    "colab": {
     "base_uri": "https://localhost:8080/"
    },
    "executionInfo": {
     "elapsed": 288,
     "status": "ok",
     "timestamp": 1733953014585,
     "user": {
      "displayName": "MAX LENIN CHIPANI LIMA",
      "userId": "14830228347600256043"
     },
     "user_tz": 300
    },
    "id": "YXefC0KKpjjx",
    "outputId": "7a33ea29-ebcb-4b14-bdec-45e51ff15ed5"
   },
   "outputs": [
    {
     "name": "stdout",
     "output_type": "stream",
     "text": [
      "<class 'pandas.core.frame.DataFrame'>\n",
      "RangeIndex: 36912 entries, 0 to 36911\n",
      "Data columns (total 21 columns):\n",
      " #   Column         Non-Null Count  Dtype  \n",
      "---  ------         --------------  -----  \n",
      " 0   quadkey        36912 non-null  object \n",
      " 1   avg_d_kbps     36912 non-null  int64  \n",
      " 2   avg_u_kbps     36912 non-null  int64  \n",
      " 3   avg_lat_ms     36912 non-null  int64  \n",
      " 4   tests          36912 non-null  int64  \n",
      " 5   devices        36912 non-null  int64  \n",
      " 6   index_righ     36912 non-null  int64  \n",
      " 7   UBIGEO         36912 non-null  object \n",
      " 8   CCDD           36912 non-null  object \n",
      " 9   CCPP           36912 non-null  object \n",
      " 10  CCDI           36912 non-null  object \n",
      " 11  DEPARTAMEN     36912 non-null  object \n",
      " 12  PROVINCIA      36912 non-null  object \n",
      " 13  OBJECTID       36912 non-null  float64\n",
      " 14  ESRI_OID       36912 non-null  float64\n",
      " 15  year           36912 non-null  int64  \n",
      " 16  quarter        36912 non-null  int64  \n",
      " 17  DISTRITO       36912 non-null  object \n",
      " 18  avg_d_mbps     36912 non-null  float64\n",
      " 19  DATE           36912 non-null  object \n",
      " 20  Fecha_Entrada  28121 non-null  object \n",
      "dtypes: float64(3), int64(8), object(10)\n",
      "memory usage: 5.9+ MB\n"
     ]
    }
   ],
   "source": [
    "quadkeys_final_df.info()"
   ]
  },
  {
   "cell_type": "code",
   "execution_count": 24,
   "metadata": {
    "colab": {
     "base_uri": "https://localhost:8080/"
    },
    "executionInfo": {
     "elapsed": 592,
     "status": "ok",
     "timestamp": 1733953807267,
     "user": {
      "displayName": "MAX LENIN CHIPANI LIMA",
      "userId": "14830228347600256043"
     },
     "user_tz": 300
    },
    "id": "UswfpMdYpxO8",
    "outputId": "f9ba30b7-86bc-4034-af95-03871aed633d"
   },
   "outputs": [
    {
     "name": "stdout",
     "output_type": "stream",
     "text": [
      "first.treat             object\n",
      "treat                    int64\n",
      "year_quarter_numeric     int64\n",
      "first.treat_numeric      int32\n",
      "dtype: object\n",
      "     DATE first.treat  treat  year_quarter_numeric  first.treat_numeric\n",
      "0  2019Q1      2020Q4      1                     1                    8\n",
      "1  2019Q1      2020Q4      1                     1                    8\n",
      "2  2019Q1      2020Q4      1                     1                    8\n",
      "3  2019Q1      2020Q4      1                     1                    8\n",
      "4  2019Q1      2020Q4      1                     1                    8\n"
     ]
    }
   ],
   "source": [
    "import pandas as pd\n",
    "\n",
    "# 1. Reemplazar NaN en la columna 'Fecha_Entrada' con 0 y renombrar a 'first.treat'\n",
    "quadkeys_final_df['first.treat'] = quadkeys_final_df['Fecha_Entrada'].fillna(0)\n",
    "\n",
    "# 2. Crear la columna 'treat' donde si 'first.treat' es diferente de 0, se considera que ha recibido tratamiento\n",
    "quadkeys_final_df['treat'] = quadkeys_final_df['first.treat'].apply(lambda x: 1 if x != 0 else 0)\n",
    "\n",
    "# 3. Crear una columna numérica basada en 'first.treat'\n",
    "quadkeys_final_df['first.treat_numeric'] = pd.to_numeric(quadkeys_final_df['first.treat'], errors='coerce').astype('Int64')\n",
    "\n",
    "# 4. Crear una categoría para la columna 'DATE'\n",
    "quadkeys_final_df['DATE_categorical'] = pd.Categorical(quadkeys_final_df['DATE'])\n",
    "\n",
    "# 5. Crear un diccionario que asigne números a los trimestres\n",
    "trimestre_mapping = {\n",
    "    '2019Q1': 1, '2019Q2': 2, '2019Q3': 3, '2019Q4': 4,\n",
    "    '2020Q1': 5, '2020Q2': 6, '2020Q3': 7, '2020Q4': 8,\n",
    "    '2021Q1': 9, '2021Q2': 10, '2021Q3': 11, '2021Q4': 12,\n",
    "    '2022Q1': 13, '2022Q2': 14, '2022Q3': 15, '2022Q4': 16\n",
    "}\n",
    "\n",
    "# 6. Mapear 'DATE' y 'first.treat' usando el diccionario\n",
    "quadkeys_final_df['year_quarter_numeric'] = quadkeys_final_df['DATE'].map(trimestre_mapping)\n",
    "quadkeys_final_df['first.treat_numeric'] = quadkeys_final_df['first.treat'].map(trimestre_mapping).fillna(0).astype('int')\n",
    "\n",
    "# Verificar los tipos de datos\n",
    "print(quadkeys_final_df[['first.treat', 'treat', 'year_quarter_numeric', 'first.treat_numeric']].dtypes)\n",
    "\n",
    "# Verificar los primeros registros\n",
    "print(quadkeys_final_df[['DATE', 'first.treat', 'treat', 'year_quarter_numeric', 'first.treat_numeric']].head())\n"
   ]
  },
  {
   "cell_type": "code",
   "execution_count": 25,
   "metadata": {
    "colab": {
     "base_uri": "https://localhost:8080/"
    },
    "executionInfo": {
     "elapsed": 334,
     "status": "ok",
     "timestamp": 1733954071123,
     "user": {
      "displayName": "MAX LENIN CHIPANI LIMA",
      "userId": "14830228347600256043"
     },
     "user_tz": 300
    },
    "id": "43SkTccJtxQi",
    "outputId": "60640735-49c2-407b-e620-4fab8400558a"
   },
   "outputs": [
    {
     "name": "stdout",
     "output_type": "stream",
     "text": [
      "Porcentaje de treat y no treat:\n",
      "treat\n",
      "1    76.183897\n",
      "0    23.816103\n",
      "Name: proportion, dtype: float64\n"
     ]
    }
   ],
   "source": [
    "# Calcular el porcentaje de treat y no treat\n",
    "treat_counts = quadkeys_final_df['treat'].value_counts(normalize=True) * 100\n",
    "\n",
    "# Mostrar los resultados\n",
    "print(\"Porcentaje de treat y no treat:\")\n",
    "print(treat_counts)"
   ]
  },
  {
   "cell_type": "code",
   "execution_count": 26,
   "metadata": {
    "colab": {
     "base_uri": "https://localhost:8080/"
    },
    "executionInfo": {
     "elapsed": 1013,
     "status": "ok",
     "timestamp": 1733954271129,
     "user": {
      "displayName": "MAX LENIN CHIPANI LIMA",
      "userId": "14830228347600256043"
     },
     "user_tz": 300
    },
    "id": "LwaQ0jLUumsL",
    "outputId": "fed38f2d-05a2-42eb-d1fb-7c6d66387328"
   },
   "outputs": [
    {
     "name": "stdout",
     "output_type": "stream",
     "text": [
      "Archivo CSV exportado en: ../output/quadkeys_final_df.csv\n"
     ]
    }
   ],
   "source": [
    "output_csv_path = \"../output/quadkeys_final_df.csv\"\n",
    "quadkeys_final_df.to_csv(output_csv_path, index=False)\n",
    "\n",
    "print(f\"Archivo CSV exportado en: {output_csv_path}\")"
   ]
  },
  {
   "cell_type": "code",
   "execution_count": 27,
   "metadata": {
    "colab": {
     "base_uri": "https://localhost:8080/",
     "height": 530
    },
    "executionInfo": {
     "elapsed": 348,
     "status": "ok",
     "timestamp": 1733953818180,
     "user": {
      "displayName": "MAX LENIN CHIPANI LIMA",
      "userId": "14830228347600256043"
     },
     "user_tz": 300
    },
    "id": "9kuF8t5Es3Ud",
    "outputId": "201dced7-d542-4308-d8ef-699f5e844516"
   },
   "outputs": [
    {
     "data": {
      "text/html": [
       "<div>\n",
       "<style scoped>\n",
       "    .dataframe tbody tr th:only-of-type {\n",
       "        vertical-align: middle;\n",
       "    }\n",
       "\n",
       "    .dataframe tbody tr th {\n",
       "        vertical-align: top;\n",
       "    }\n",
       "\n",
       "    .dataframe thead th {\n",
       "        text-align: right;\n",
       "    }\n",
       "</style>\n",
       "<table border=\"1\" class=\"dataframe\">\n",
       "  <thead>\n",
       "    <tr style=\"text-align: right;\">\n",
       "      <th></th>\n",
       "      <th>quadkey</th>\n",
       "      <th>avg_d_kbps</th>\n",
       "      <th>avg_u_kbps</th>\n",
       "      <th>avg_lat_ms</th>\n",
       "      <th>tests</th>\n",
       "      <th>devices</th>\n",
       "      <th>index_righ</th>\n",
       "      <th>UBIGEO</th>\n",
       "      <th>CCDD</th>\n",
       "      <th>CCPP</th>\n",
       "      <th>...</th>\n",
       "      <th>quarter</th>\n",
       "      <th>DISTRITO</th>\n",
       "      <th>avg_d_mbps</th>\n",
       "      <th>DATE</th>\n",
       "      <th>Fecha_Entrada</th>\n",
       "      <th>first.treat</th>\n",
       "      <th>treat</th>\n",
       "      <th>first.treat_numeric</th>\n",
       "      <th>DATE_categorical</th>\n",
       "      <th>year_quarter_numeric</th>\n",
       "    </tr>\n",
       "  </thead>\n",
       "  <tbody>\n",
       "    <tr>\n",
       "      <th>0</th>\n",
       "      <td>2100300121202033</td>\n",
       "      <td>39338</td>\n",
       "      <td>7386</td>\n",
       "      <td>18</td>\n",
       "      <td>478</td>\n",
       "      <td>56</td>\n",
       "      <td>1332</td>\n",
       "      <td>150140</td>\n",
       "      <td>15</td>\n",
       "      <td>01</td>\n",
       "      <td>...</td>\n",
       "      <td>1</td>\n",
       "      <td>SANTIAGO DE SURCO</td>\n",
       "      <td>39.338</td>\n",
       "      <td>2019Q1</td>\n",
       "      <td>2020Q4</td>\n",
       "      <td>2020Q4</td>\n",
       "      <td>1</td>\n",
       "      <td>8</td>\n",
       "      <td>2019Q1</td>\n",
       "      <td>1</td>\n",
       "    </tr>\n",
       "    <tr>\n",
       "      <th>1</th>\n",
       "      <td>2100300121202222</td>\n",
       "      <td>26534</td>\n",
       "      <td>6529</td>\n",
       "      <td>26</td>\n",
       "      <td>171</td>\n",
       "      <td>40</td>\n",
       "      <td>1332</td>\n",
       "      <td>150140</td>\n",
       "      <td>15</td>\n",
       "      <td>01</td>\n",
       "      <td>...</td>\n",
       "      <td>1</td>\n",
       "      <td>SANTIAGO DE SURCO</td>\n",
       "      <td>26.534</td>\n",
       "      <td>2019Q1</td>\n",
       "      <td>2020Q4</td>\n",
       "      <td>2020Q4</td>\n",
       "      <td>1</td>\n",
       "      <td>8</td>\n",
       "      <td>2019Q1</td>\n",
       "      <td>1</td>\n",
       "    </tr>\n",
       "    <tr>\n",
       "      <th>2</th>\n",
       "      <td>2100300120331133</td>\n",
       "      <td>23960</td>\n",
       "      <td>4519</td>\n",
       "      <td>16</td>\n",
       "      <td>225</td>\n",
       "      <td>32</td>\n",
       "      <td>1332</td>\n",
       "      <td>150140</td>\n",
       "      <td>15</td>\n",
       "      <td>01</td>\n",
       "      <td>...</td>\n",
       "      <td>1</td>\n",
       "      <td>SANTIAGO DE SURCO</td>\n",
       "      <td>23.960</td>\n",
       "      <td>2019Q1</td>\n",
       "      <td>2020Q4</td>\n",
       "      <td>2020Q4</td>\n",
       "      <td>1</td>\n",
       "      <td>8</td>\n",
       "      <td>2019Q1</td>\n",
       "      <td>1</td>\n",
       "    </tr>\n",
       "    <tr>\n",
       "      <th>3</th>\n",
       "      <td>2100300120313331</td>\n",
       "      <td>23637</td>\n",
       "      <td>4033</td>\n",
       "      <td>29</td>\n",
       "      <td>235</td>\n",
       "      <td>60</td>\n",
       "      <td>1332</td>\n",
       "      <td>150140</td>\n",
       "      <td>15</td>\n",
       "      <td>01</td>\n",
       "      <td>...</td>\n",
       "      <td>1</td>\n",
       "      <td>SANTIAGO DE SURCO</td>\n",
       "      <td>23.637</td>\n",
       "      <td>2019Q1</td>\n",
       "      <td>2020Q4</td>\n",
       "      <td>2020Q4</td>\n",
       "      <td>1</td>\n",
       "      <td>8</td>\n",
       "      <td>2019Q1</td>\n",
       "      <td>1</td>\n",
       "    </tr>\n",
       "    <tr>\n",
       "      <th>4</th>\n",
       "      <td>2100300121202231</td>\n",
       "      <td>34316</td>\n",
       "      <td>6107</td>\n",
       "      <td>17</td>\n",
       "      <td>255</td>\n",
       "      <td>42</td>\n",
       "      <td>1332</td>\n",
       "      <td>150140</td>\n",
       "      <td>15</td>\n",
       "      <td>01</td>\n",
       "      <td>...</td>\n",
       "      <td>1</td>\n",
       "      <td>SANTIAGO DE SURCO</td>\n",
       "      <td>34.316</td>\n",
       "      <td>2019Q1</td>\n",
       "      <td>2020Q4</td>\n",
       "      <td>2020Q4</td>\n",
       "      <td>1</td>\n",
       "      <td>8</td>\n",
       "      <td>2019Q1</td>\n",
       "      <td>1</td>\n",
       "    </tr>\n",
       "    <tr>\n",
       "      <th>...</th>\n",
       "      <td>...</td>\n",
       "      <td>...</td>\n",
       "      <td>...</td>\n",
       "      <td>...</td>\n",
       "      <td>...</td>\n",
       "      <td>...</td>\n",
       "      <td>...</td>\n",
       "      <td>...</td>\n",
       "      <td>...</td>\n",
       "      <td>...</td>\n",
       "      <td>...</td>\n",
       "      <td>...</td>\n",
       "      <td>...</td>\n",
       "      <td>...</td>\n",
       "      <td>...</td>\n",
       "      <td>...</td>\n",
       "      <td>...</td>\n",
       "      <td>...</td>\n",
       "      <td>...</td>\n",
       "      <td>...</td>\n",
       "      <td>...</td>\n",
       "    </tr>\n",
       "    <tr>\n",
       "      <th>36907</th>\n",
       "      <td>2100300123320132</td>\n",
       "      <td>67994</td>\n",
       "      <td>102462</td>\n",
       "      <td>9</td>\n",
       "      <td>1</td>\n",
       "      <td>1</td>\n",
       "      <td>1316</td>\n",
       "      <td>150124</td>\n",
       "      <td>15</td>\n",
       "      <td>01</td>\n",
       "      <td>...</td>\n",
       "      <td>4</td>\n",
       "      <td>PUCUSANA</td>\n",
       "      <td>67.994</td>\n",
       "      <td>2022Q4</td>\n",
       "      <td>NaN</td>\n",
       "      <td>0</td>\n",
       "      <td>0</td>\n",
       "      <td>0</td>\n",
       "      <td>2022Q4</td>\n",
       "      <td>16</td>\n",
       "    </tr>\n",
       "    <tr>\n",
       "      <th>36908</th>\n",
       "      <td>2100300123320300</td>\n",
       "      <td>82427</td>\n",
       "      <td>88467</td>\n",
       "      <td>6</td>\n",
       "      <td>37</td>\n",
       "      <td>7</td>\n",
       "      <td>1316</td>\n",
       "      <td>150124</td>\n",
       "      <td>15</td>\n",
       "      <td>01</td>\n",
       "      <td>...</td>\n",
       "      <td>4</td>\n",
       "      <td>PUCUSANA</td>\n",
       "      <td>82.427</td>\n",
       "      <td>2022Q4</td>\n",
       "      <td>NaN</td>\n",
       "      <td>0</td>\n",
       "      <td>0</td>\n",
       "      <td>0</td>\n",
       "      <td>2022Q4</td>\n",
       "      <td>16</td>\n",
       "    </tr>\n",
       "    <tr>\n",
       "      <th>36909</th>\n",
       "      <td>2100300123320301</td>\n",
       "      <td>144832</td>\n",
       "      <td>184148</td>\n",
       "      <td>4</td>\n",
       "      <td>1</td>\n",
       "      <td>1</td>\n",
       "      <td>1316</td>\n",
       "      <td>150124</td>\n",
       "      <td>15</td>\n",
       "      <td>01</td>\n",
       "      <td>...</td>\n",
       "      <td>4</td>\n",
       "      <td>PUCUSANA</td>\n",
       "      <td>144.832</td>\n",
       "      <td>2022Q4</td>\n",
       "      <td>NaN</td>\n",
       "      <td>0</td>\n",
       "      <td>0</td>\n",
       "      <td>0</td>\n",
       "      <td>2022Q4</td>\n",
       "      <td>16</td>\n",
       "    </tr>\n",
       "    <tr>\n",
       "      <th>36910</th>\n",
       "      <td>2100300123321011</td>\n",
       "      <td>10798</td>\n",
       "      <td>3021</td>\n",
       "      <td>35</td>\n",
       "      <td>24</td>\n",
       "      <td>1</td>\n",
       "      <td>1316</td>\n",
       "      <td>150124</td>\n",
       "      <td>15</td>\n",
       "      <td>01</td>\n",
       "      <td>...</td>\n",
       "      <td>4</td>\n",
       "      <td>CHILCA</td>\n",
       "      <td>10.798</td>\n",
       "      <td>2022Q4</td>\n",
       "      <td>NaN</td>\n",
       "      <td>0</td>\n",
       "      <td>0</td>\n",
       "      <td>0</td>\n",
       "      <td>2022Q4</td>\n",
       "      <td>16</td>\n",
       "    </tr>\n",
       "    <tr>\n",
       "      <th>36911</th>\n",
       "      <td>2100300123321012</td>\n",
       "      <td>33811</td>\n",
       "      <td>11096</td>\n",
       "      <td>22</td>\n",
       "      <td>41</td>\n",
       "      <td>4</td>\n",
       "      <td>1316</td>\n",
       "      <td>150124</td>\n",
       "      <td>15</td>\n",
       "      <td>01</td>\n",
       "      <td>...</td>\n",
       "      <td>4</td>\n",
       "      <td>CHILCA</td>\n",
       "      <td>33.811</td>\n",
       "      <td>2022Q4</td>\n",
       "      <td>NaN</td>\n",
       "      <td>0</td>\n",
       "      <td>0</td>\n",
       "      <td>0</td>\n",
       "      <td>2022Q4</td>\n",
       "      <td>16</td>\n",
       "    </tr>\n",
       "  </tbody>\n",
       "</table>\n",
       "<p>36912 rows × 26 columns</p>\n",
       "</div>"
      ],
      "text/plain": [
       "                quadkey  avg_d_kbps  avg_u_kbps  avg_lat_ms  tests  devices  \\\n",
       "0      2100300121202033       39338        7386          18    478       56   \n",
       "1      2100300121202222       26534        6529          26    171       40   \n",
       "2      2100300120331133       23960        4519          16    225       32   \n",
       "3      2100300120313331       23637        4033          29    235       60   \n",
       "4      2100300121202231       34316        6107          17    255       42   \n",
       "...                 ...         ...         ...         ...    ...      ...   \n",
       "36907  2100300123320132       67994      102462           9      1        1   \n",
       "36908  2100300123320300       82427       88467           6     37        7   \n",
       "36909  2100300123320301      144832      184148           4      1        1   \n",
       "36910  2100300123321011       10798        3021          35     24        1   \n",
       "36911  2100300123321012       33811       11096          22     41        4   \n",
       "\n",
       "       index_righ  UBIGEO CCDD CCPP  ... quarter           DISTRITO  \\\n",
       "0            1332  150140   15   01  ...       1  SANTIAGO DE SURCO   \n",
       "1            1332  150140   15   01  ...       1  SANTIAGO DE SURCO   \n",
       "2            1332  150140   15   01  ...       1  SANTIAGO DE SURCO   \n",
       "3            1332  150140   15   01  ...       1  SANTIAGO DE SURCO   \n",
       "4            1332  150140   15   01  ...       1  SANTIAGO DE SURCO   \n",
       "...           ...     ...  ...  ...  ...     ...                ...   \n",
       "36907        1316  150124   15   01  ...       4           PUCUSANA   \n",
       "36908        1316  150124   15   01  ...       4           PUCUSANA   \n",
       "36909        1316  150124   15   01  ...       4           PUCUSANA   \n",
       "36910        1316  150124   15   01  ...       4             CHILCA   \n",
       "36911        1316  150124   15   01  ...       4             CHILCA   \n",
       "\n",
       "      avg_d_mbps    DATE  Fecha_Entrada  first.treat  treat  \\\n",
       "0         39.338  2019Q1         2020Q4       2020Q4      1   \n",
       "1         26.534  2019Q1         2020Q4       2020Q4      1   \n",
       "2         23.960  2019Q1         2020Q4       2020Q4      1   \n",
       "3         23.637  2019Q1         2020Q4       2020Q4      1   \n",
       "4         34.316  2019Q1         2020Q4       2020Q4      1   \n",
       "...          ...     ...            ...          ...    ...   \n",
       "36907     67.994  2022Q4            NaN            0      0   \n",
       "36908     82.427  2022Q4            NaN            0      0   \n",
       "36909    144.832  2022Q4            NaN            0      0   \n",
       "36910     10.798  2022Q4            NaN            0      0   \n",
       "36911     33.811  2022Q4            NaN            0      0   \n",
       "\n",
       "      first.treat_numeric  DATE_categorical year_quarter_numeric  \n",
       "0                       8            2019Q1                    1  \n",
       "1                       8            2019Q1                    1  \n",
       "2                       8            2019Q1                    1  \n",
       "3                       8            2019Q1                    1  \n",
       "4                       8            2019Q1                    1  \n",
       "...                   ...               ...                  ...  \n",
       "36907                   0            2022Q4                   16  \n",
       "36908                   0            2022Q4                   16  \n",
       "36909                   0            2022Q4                   16  \n",
       "36910                   0            2022Q4                   16  \n",
       "36911                   0            2022Q4                   16  \n",
       "\n",
       "[36912 rows x 26 columns]"
      ]
     },
     "execution_count": 27,
     "metadata": {},
     "output_type": "execute_result"
    }
   ],
   "source": [
    "quadkeys_final_df"
   ]
  }
 ],
 "metadata": {
  "colab": {
   "authorship_tag": "ABX9TyN/EVyDKk6gvL3ek3n5Z+hh",
   "provenance": [
    {
     "file_id": "1x-VaPUje92JjeA0J6cJnXb67kXq3c3mj",
     "timestamp": 1733790991838
    }
   ]
  },
  "kernelspec": {
   "display_name": "Python 3 (ipykernel)",
   "language": "python",
   "name": "python3"
  },
  "language_info": {
   "codemirror_mode": {
    "name": "ipython",
    "version": 3
   },
   "file_extension": ".py",
   "mimetype": "text/x-python",
   "name": "python",
   "nbconvert_exporter": "python",
   "pygments_lexer": "ipython3",
   "version": "3.10.16"
  }
 },
 "nbformat": 4,
 "nbformat_minor": 4
}
